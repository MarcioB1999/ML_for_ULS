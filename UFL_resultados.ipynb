{
 "cells": [
  {
   "cell_type": "markdown",
   "metadata": {
    "id": "yZuN5ET-dO2w"
   },
   "source": [
    "# Bibliotecas"
   ]
  },
  {
   "cell_type": "code",
   "execution_count": 6,
   "metadata": {
    "id": "3HOXweeoPdXL"
   },
   "outputs": [
    {
     "name": "stdout",
     "output_type": "stream",
     "text": [
      "oi\n"
     ]
    }
   ],
   "source": [
    "import matplotlib.pyplot as plt\n",
    "import numpy as np\n",
    "import seaborn as sns\n",
    "import pandas as pd\n",
    "from sklearn.neural_network import MLPRegressor as rede_neural\n",
    "from sklearn.ensemble import RandomForestRegressor\n",
    "from sklearn.preprocessing import StandardScaler\n",
    "from scipy.stats import shapiro\n",
    "from scipy.stats import f_oneway\n",
    "from sklearn.model_selection import GridSearchCV\n",
    "import Classes as Cls"
   ]
  },
  {
   "cell_type": "markdown",
   "metadata": {},
   "source": [
    "# Funções"
   ]
  },
  {
   "cell_type": "markdown",
   "metadata": {},
   "source": [
    "## Resultados ULSR"
   ]
  },
  {
   "cell_type": "code",
   "execution_count": null,
   "metadata": {
    "id": "56LsTTpwtFoK"
   },
   "outputs": [],
   "source": [
    "def resultados(datafile,n,modelos,indice):\n",
    "\n",
    "  a=[]\n",
    "  \n",
    "  for i in range(n):\n",
    "      \n",
    "\n",
    "      Modelo_pi = Cls.ulsr(datafile)\n",
    "      \n",
    "      mdl = modelos.modelos[indice]\n",
    "      mdl.fit(modelos.x_transformed,modelos.y_transformed.ravel())\n",
    "\n",
    "\n",
    "      y_demanda=modelos.y_scale.inverse_transform(np.array(mdl.predict(modelos.x_scale.fit_transform([[j] for j in range(52)]))).reshape(52,1))\n",
    "\n",
    "      Modelo_pi.Construir(y_demanda)\n",
    "      Modelo_pi.Otimizar()\n",
    "      a.append(Modelo_pi.Resultados())\n",
    "\n",
    "\n",
    "  return pd.DataFrame(a)"
   ]
  },
  {
   "cell_type": "markdown",
   "metadata": {
    "id": "Rfco0juKdCCk"
   },
   "source": [
    "## Plot"
   ]
  },
  {
   "cell_type": "code",
   "execution_count": null,
   "metadata": {
    "id": "q5PuCAS8CMU_"
   },
   "outputs": [],
   "source": [
    "def plot_(resultados_dataframe1,resultados_dataframe2 = False):\n",
    "  aux_bool = True\n",
    "  if(type(resultados_dataframe2)==type(aux_bool)):\n",
    "    resultados_dataframe2 = resultados_dataframe1\n",
    "    aux_bool = False\n",
    "\n",
    "\n",
    "  fig=plt.figure(figsize=(10,8))\n",
    "  plt.subplots_adjust(wspace=0.1, hspace=0.3)\n",
    "  fig.suptitle('Distribuição das Distâncias Entre os Pontos')\n",
    "\n",
    "  numb=1\n",
    "  dist = {}\n",
    "  for coluna in list(resultados_dataframe1)[:6]:\n",
    "    dist_aux=[]\n",
    "    ax=fig.add_subplot(2,3,numb)\n",
    "    ax.set_title(coluna)\n",
    "    for i in range(len(resultados_dataframe1[coluna])):\n",
    "      if(aux_bool):\n",
    "        i = 0\n",
    "      else:\n",
    "        i = i\n",
    "      for j in range(i,len(resultados_dataframe2[coluna])):\n",
    "        dist_aux.append(np.linalg.norm(np.array(resultados_dataframe1.loc[i,coluna]) - np.array(resultados_dataframe2.loc[j,coluna])))\n",
    "    sns.histplot(dist_aux, kde=True, element='step')\n",
    "    plt.tick_params(axis='y', labelsize=0, length=0)\n",
    "    plt.ylabel([], fontsize=0)\n",
    "    plt.xlabel('Distância')\n",
    "    dist[coluna] = dist_aux\n",
    "    numb+=1\n",
    "  plt.show()\n",
    "  return pd.DataFrame(dist)"
   ]
  },
  {
   "cell_type": "markdown",
   "metadata": {
    "id": "620KcmpkdI1-"
   },
   "source": [
    "# Criação dos modelos de aprendizado"
   ]
  },
  {
   "cell_type": "code",
   "execution_count": null,
   "metadata": {
    "id": "hZ8awvjNNFET"
   },
   "outputs": [],
   "source": [
    "funcao_demanda = lambda i,j: [(i*6-j*2)**2+10000]\n",
    "n = 10\n",
    "\n",
    "produto = Cls.itens()\n",
    "produto.Construcao(funcao_demanda, n)\n",
    "\n",
    "x = [[j] for j in range(52) for i in range(n)]\n",
    "y = produto.demandas"
   ]
  },
  {
   "cell_type": "code",
   "execution_count": null,
   "metadata": {
    "id": "mIkGJxhxQaaN"
   },
   "outputs": [],
   "source": [
    "modelos = Cls.modelos_regressor([RandomForestRegressor(n_estimators=10),rede_neural()],\n",
    "                            x,y)"
   ]
  },
  {
   "cell_type": "code",
   "execution_count": null,
   "metadata": {
    "id": "T8UAo24ITVWl"
   },
   "outputs": [],
   "source": [
    "modelos.Transformar()"
   ]
  },
  {
   "cell_type": "code",
   "execution_count": null,
   "metadata": {
    "id": "tvLI5Fu2abno"
   },
   "outputs": [],
   "source": [
    "modelos.Treinar()\n",
    "modelos.Avaliar()"
   ]
  },
  {
   "cell_type": "code",
   "execution_count": null,
   "metadata": {
    "id": "7EuHCUVgnc9W"
   },
   "outputs": [],
   "source": [
    "resultados = pd.DataFrame({'Random forest': modelos.medias_desempenho[0],\n",
    "                           'Rede Neural': modelos.medias_desempenho[1],})"
   ]
  },
  {
   "cell_type": "code",
   "execution_count": null,
   "metadata": {
    "colab": {
     "base_uri": "https://localhost:8080/",
     "height": 326
    },
    "id": "B6tG3s0lgieC",
    "outputId": "59f9ff80-ae58-4a84-a589-78785ffbffb7"
   },
   "outputs": [],
   "source": [
    "fig=plt.figure(figsize=(10,10))\n",
    "\n",
    "x_unique = [[i] for i in range(52)]\n",
    "\n",
    "medias_reais = [funcao_demanda(i,j) for i in range(13) for j in range(1,5)]\n",
    "\n",
    "ax=fig.add_subplot(2,2,1)\n",
    "plt.scatter(x,y)\n",
    "plt.plot(x_unique,modelos.y_scale.inverse_transform(modelos.predizer(0,x_unique).reshape(-1,1)),color='red',label='Floresta Aleatoria')\n",
    "\n",
    "plt.plot(x_unique,modelos.y_scale.inverse_transform(modelos.predizer(1,x_unique).reshape(-1,1)),color='green',label='Rede Neural')\n",
    "\n",
    "plt.plot(x_unique,medias_reais,color='orange',label='Média Condicional')\n",
    "\n",
    "plt.ylabel('Demanda')\n",
    "plt.xlabel('Período')\n",
    "\n",
    "\n",
    "plt.legend()\n",
    "plt.plot()"
   ]
  },
  {
   "cell_type": "code",
   "execution_count": null,
   "metadata": {
    "colab": {
     "base_uri": "https://localhost:8080/",
     "height": 282
    },
    "id": "fXDQ7uTskU95",
    "outputId": "2f4a1585-798d-4213-ff18-ceff1933116f"
   },
   "outputs": [],
   "source": [
    "sns.histplot(modelos.medias_desempenho[0], kde=True, element='step',label='Floresta Aleatoria')\n",
    "sns.histplot(modelos.medias_desempenho[1], kde=True, element='step',color='green',label='Rede Neural')\n",
    "plt.legend()\n",
    "plt.plot()"
   ]
  },
  {
   "cell_type": "code",
   "execution_count": null,
   "metadata": {
    "colab": {
     "base_uri": "https://localhost:8080/",
     "height": 300
    },
    "id": "W2BOLK87pZ3N",
    "outputId": "4c4af040-bcda-4c8d-ef47-eca00a29defd"
   },
   "outputs": [],
   "source": [
    "resultados.describe()"
   ]
  },
  {
   "cell_type": "markdown",
   "metadata": {
    "id": "FRAa38_u8Rlj"
   },
   "source": [
    "## Analise de Normalidade dos dados de desempenho médio"
   ]
  },
  {
   "cell_type": "code",
   "execution_count": null,
   "metadata": {
    "colab": {
     "base_uri": "https://localhost:8080/"
    },
    "id": "z-b0edWg6YpM",
    "outputId": "80a5f23b-0ba8-4052-94cc-7753488cf506"
   },
   "outputs": [],
   "source": [
    "alpha = 0.05\n",
    "p={}\n",
    "_,p['Random Forest'] = shapiro(modelos.medias_desempenho[0])\n",
    "_,p['Rede Neural'] = shapiro(modelos.medias_desempenho[1])\n",
    "for i in p:\n",
    "    if p[i] <= alpha:\n",
    "        print(f'Média amostral de desempenho da {i} não segue uma normal')\n",
    "    else:\n",
    "        print(f'Média amostral de desempenho da {i} segue uma normal')"
   ]
  },
  {
   "cell_type": "markdown",
   "metadata": {
    "id": "dQbROnTQ8bfl"
   },
   "source": [
    "## Analise de comparação dos dados de desempenho médio"
   ]
  },
  {
   "cell_type": "code",
   "execution_count": null,
   "metadata": {
    "id": "I8QjpJF67tWP"
   },
   "outputs": [],
   "source": [
    "_,aux = f_oneway(modelos.medias_desempenho[0],modelos.medias_desempenho[1])"
   ]
  },
  {
   "cell_type": "code",
   "execution_count": null,
   "metadata": {
    "colab": {
     "base_uri": "https://localhost:8080/"
    },
    "id": "m_Zik6m87zLM",
    "outputId": "0cf51ee3-3f38-4814-ec12-167abc2c40e4"
   },
   "outputs": [],
   "source": [
    "if aux < alpha:  \n",
    "    print(\"A hipotese nula pode ser rejeitada. Dados provem de distribuição diferentes\")\n",
    "else:\n",
    "    print(\"A hipotese nula não pode ser rejeitada. Dados provem da mesma distribuição\")"
   ]
  },
  {
   "cell_type": "markdown",
   "metadata": {
    "id": "QMxLYKhV79rY"
   },
   "source": [
    "# Resultados Modelo PI"
   ]
  },
  {
   "cell_type": "markdown",
   "metadata": {
    "id": "47Dtb7VtGdjp"
   },
   "source": [
    "## Criação"
   ]
  },
  {
   "cell_type": "code",
   "execution_count": null,
   "metadata": {
    "id": "wCoVvzWzpu9a"
   },
   "outputs": [],
   "source": [
    "datafile = \"TESTE.txt\""
   ]
  },
  {
   "cell_type": "code",
   "execution_count": null,
   "metadata": {
    "colab": {
     "base_uri": "https://localhost:8080/",
     "height": 183
    },
    "id": "aI6ZyvydMvCq",
    "outputId": "6732cf8c-64ad-4216-e709-86f488a03724"
   },
   "outputs": [],
   "source": [
    "resultados_dataframe_1 = resultados(datafile,200,modelos,0)\n",
    "resultados_dataframe_2 = resultados(datafile,200,modelos,1)"
   ]
  },
  {
   "cell_type": "markdown",
   "metadata": {
    "id": "0KAqKoB6nLG-"
   },
   "source": [
    "## Analise das Distancias Entre os Pontos"
   ]
  },
  {
   "cell_type": "markdown",
   "metadata": {
    "id": "h2PuYqKUnh1J"
   },
   "source": [
    "### distancia entre os pontos provindos dos resultados do Random Forest, ou seja, as demandas foram obtidas pelo Random forest"
   ]
  },
  {
   "cell_type": "code",
   "execution_count": null,
   "metadata": {
    "id": "qCgLpfooNNRQ"
   },
   "outputs": [],
   "source": [
    "dist_1 = plot_(resultados_dataframe_1)"
   ]
  },
  {
   "cell_type": "code",
   "execution_count": null,
   "metadata": {
    "id": "CE2m12H3FrtK"
   },
   "outputs": [],
   "source": [
    "dist_1.describe()"
   ]
  },
  {
   "cell_type": "markdown",
   "metadata": {
    "id": "-jqmAmj2oUCO"
   },
   "source": [
    "### distancia entre os pontos provindos dos resultados da Rede Neural, ou seja, as demandas foram obtidas pelo Rede Neural"
   ]
  },
  {
   "cell_type": "code",
   "execution_count": null,
   "metadata": {
    "id": "BbjQFP-uNUGm"
   },
   "outputs": [],
   "source": [
    "dist_2 = plot_(resultados_dataframe_2)"
   ]
  },
  {
   "cell_type": "code",
   "execution_count": null,
   "metadata": {
    "id": "lWf-d7PqFv5U"
   },
   "outputs": [],
   "source": [
    "dist_2.describe()"
   ]
  },
  {
   "cell_type": "code",
   "execution_count": null,
   "metadata": {
    "id": "VP4zUYY5R9UG"
   },
   "outputs": [],
   "source": [
    "np.quantile(np.array(dist_2['x']), 0.9)"
   ]
  },
  {
   "cell_type": "markdown",
   "metadata": {
    "id": "1yuh61Xeomlj"
   },
   "source": [
    "### distancia entre os pontos provindos dos resultados do Random Forest e entre da Rede Neural"
   ]
  },
  {
   "cell_type": "code",
   "execution_count": null,
   "metadata": {
    "id": "v4jpW8iENZ_E"
   },
   "outputs": [],
   "source": [
    "dist_3 = plot_(resultados_dataframe_1,resultados_dataframe_2)"
   ]
  },
  {
   "cell_type": "code",
   "execution_count": null,
   "metadata": {
    "id": "HlnbORNmF0MP"
   },
   "outputs": [],
   "source": [
    "dist_3.describe()"
   ]
  },
  {
   "cell_type": "code",
   "execution_count": null,
   "metadata": {
    "id": "IkYC9heYSbxT"
   },
   "outputs": [],
   "source": [
    "np.quantile(np.array(dist_3['xr']), 0.98)"
   ]
  },
  {
   "cell_type": "markdown",
   "metadata": {
    "id": "KZUlZE7eo9Ao"
   },
   "source": [
    "## Analise dos valores objetivos obtidos\n"
   ]
  },
  {
   "cell_type": "code",
   "execution_count": null,
   "metadata": {
    "id": "6O653u50_CUO"
   },
   "outputs": [],
   "source": [
    "fig=plt.figure(figsize=(5,4.5))\n",
    "fig.suptitle('Distribuição dos Valores Objetivos')\n",
    "\n",
    "sns.histplot(resultados_dataframe_2['ObjVal'], kde=True, element='step',label='Floresta Aleatoria')\n",
    "sns.histplot(resultados_dataframe_1['ObjVal'], kde=True, element='step',color='green',label='Rede Neural')\n",
    "plt.legend()\n",
    "plt.ylabel([], fontsize=0)\n",
    "plt.tick_params(axis='y', labelsize=0, length=0)\n",
    "plt.plot()"
   ]
  },
  {
   "cell_type": "markdown",
   "metadata": {
    "id": "OmN4Ab5qpPTr"
   },
   "source": [
    "Random Forest"
   ]
  },
  {
   "cell_type": "code",
   "execution_count": null,
   "metadata": {
    "id": "d6mNnzpD_Caf"
   },
   "outputs": [],
   "source": [
    "resultados_dataframe_1['ObjVal'].describe()"
   ]
  },
  {
   "cell_type": "markdown",
   "metadata": {
    "id": "jzpHBTyjpSDF"
   },
   "source": [
    "Rede Neural"
   ]
  },
  {
   "cell_type": "code",
   "execution_count": null,
   "metadata": {
    "id": "Y8PvaCwSAXgs"
   },
   "outputs": [],
   "source": [
    "resultados_dataframe_2['ObjVal'].describe()"
   ]
  },
  {
   "cell_type": "code",
   "execution_count": null,
   "metadata": {
    "id": "nWU0OmUQGv7Q"
   },
   "outputs": [],
   "source": [
    "alpha = 0.05\n",
    "p={}\n",
    "_,p['Random Forest'] = shapiro(resultados_dataframe_1['ObjVal'])\n",
    "_,p['Rede Neural'] = shapiro(resultados_dataframe_2['ObjVal'])\n",
    "for i in p:\n",
    "    if p[i] <= alpha:\n",
    "        print(f'Média amostral de desempenho da {i} não segue uma normal')\n",
    "    else:\n",
    "        print(f'Média amostral de desempenho da {i} segue uma normal')"
   ]
  },
  {
   "cell_type": "code",
   "execution_count": null,
   "metadata": {
    "id": "lzPMA6NfBlBc"
   },
   "outputs": [],
   "source": [
    "_,aux = f_oneway(resultados_dataframe_1['ObjVal'].values,resultados_dataframe_2['ObjVal'].values)"
   ]
  },
  {
   "cell_type": "code",
   "execution_count": null,
   "metadata": {
    "id": "z7FEf1whBrgM"
   },
   "outputs": [],
   "source": [
    "if aux < alpha:  \n",
    "    print(\"A hipotese nula pode ser rejeitada. Dados provem de distribuições diferentes\")\n",
    "else:\n",
    "    print(\"A hipotese nula não pode ser rejeitada. Dados provem da mesma distribuição\")"
   ]
  }
 ],
 "metadata": {
  "colab": {
   "collapsed_sections": [
    "yZuN5ET-dO2w",
    "wi0XmjvdcmU8",
    "4DoW4Ka5cs2Z",
    "5Z2-nw5jcxV-",
    "Rfco0juKdCCk",
    "FRAa38_u8Rlj",
    "dQbROnTQ8bfl",
    "0KAqKoB6nLG-",
    "h2PuYqKUnh1J",
    "-jqmAmj2oUCO",
    "1yuh61Xeomlj",
    "KZUlZE7eo9Ao"
   ],
   "provenance": []
  },
  "kernelspec": {
   "display_name": "Python 3",
   "language": "python",
   "name": "python3"
  },
  "language_info": {
   "codemirror_mode": {
    "name": "ipython",
    "version": 3
   },
   "file_extension": ".py",
   "mimetype": "text/x-python",
   "name": "python",
   "nbconvert_exporter": "python",
   "pygments_lexer": "ipython3",
   "version": "3.11.1"
  },
  "vscode": {
   "interpreter": {
    "hash": "1a717dde845408479717422324a16aeeafc6bd8afe7a921138603c3ebdda8f46"
   }
  }
 },
 "nbformat": 4,
 "nbformat_minor": 1
}
